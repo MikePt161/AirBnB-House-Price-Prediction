{
 "cells": [
  {
   "cell_type": "code",
   "execution_count": 1,
   "metadata": {},
   "outputs": [],
   "source": [
    "import requests\n",
    "from preprocessing import select_features\n",
    "import pandas as pd"
   ]
  },
  {
   "cell_type": "code",
   "execution_count": 2,
   "metadata": {},
   "outputs": [],
   "source": [
    "df_list = pd.read_csv('data/listings.csv')\n",
    "df_list = select_features(df_list)\n",
    "df_list = df_list.fillna('')\n",
    "sample = df_list.iloc[0, 1:-1].to_dict()"
   ]
  },
  {
   "cell_type": "code",
   "execution_count": 3,
   "metadata": {},
   "outputs": [
    {
     "data": {
      "text/plain": [
       "neighbourhood_cleansed                                          ΑΜΠΕΛΟΚΗΠΟΙ\n",
       "host_response_rate                                                         \n",
       "host_acceptance_rate                                                       \n",
       "host_is_superhost                                                         t\n",
       "host_listings_count                                                     6.0\n",
       "host_identity_verified                                                    t\n",
       "latitude                                                           37.98863\n",
       "longitude                                                          23.76527\n",
       "room_type                                                   Entire home/apt\n",
       "bathrooms_text                                                      2 baths\n",
       "bedrooms                                                                3.0\n",
       "beds                                                                    5.0\n",
       "accommodates                                                              8\n",
       "amenities                 [\"Kitchen\", \"Free street parking\", \"Crib\", \"Pa...\n",
       "number_of_reviews                                                        32\n",
       "reviews_per_month                                                      0.41\n",
       "price                                                                $79.00\n",
       "Name: 0, dtype: object"
      ]
     },
     "execution_count": 3,
     "metadata": {},
     "output_type": "execute_result"
    }
   ],
   "source": [
    "df_list.iloc[0, 1:]"
   ]
  },
  {
   "cell_type": "code",
   "execution_count": 4,
   "metadata": {},
   "outputs": [
    {
     "data": {
      "text/plain": [
       "''"
      ]
     },
     "execution_count": 4,
     "metadata": {},
     "output_type": "execute_result"
    }
   ],
   "source": [
    "sample['host_response_rate']"
   ]
  },
  {
   "cell_type": "code",
   "execution_count": 5,
   "metadata": {},
   "outputs": [
    {
     "data": {
      "text/plain": [
       "200"
      ]
     },
     "execution_count": 5,
     "metadata": {},
     "output_type": "execute_result"
    }
   ],
   "source": [
    "r = requests.post('http://localhost:8000/predict', headers={'Content-type': 'application/json'}, json=sample)\n",
    "r.status_code"
   ]
  },
  {
   "cell_type": "code",
   "execution_count": 6,
   "metadata": {},
   "outputs": [
    {
     "data": {
      "text/plain": [
       "{'prediction': 78.105712890625}"
      ]
     },
     "execution_count": 6,
     "metadata": {},
     "output_type": "execute_result"
    }
   ],
   "source": [
    "r.json()"
   ]
  },
  {
   "cell_type": "code",
   "execution_count": 7,
   "metadata": {},
   "outputs": [
    {
     "data": {
      "text/plain": [
       "list"
      ]
     },
     "execution_count": 7,
     "metadata": {},
     "output_type": "execute_result"
    }
   ],
   "source": [
    "samples = df_list.iloc[:15, 1:-1].to_dict('records')\n",
    "\n",
    "# samples = list(df_list.iloc[:10, 1:-1].values)\n",
    "# list(samples)[0]\n",
    "\n",
    "json_samples = {'data': samples}\n",
    "type(samples)"
   ]
  },
  {
   "cell_type": "code",
   "execution_count": 8,
   "metadata": {},
   "outputs": [
    {
     "data": {
      "text/plain": [
       "200"
      ]
     },
     "execution_count": 8,
     "metadata": {},
     "output_type": "execute_result"
    }
   ],
   "source": [
    "r = requests.post('http://localhost:8000/predict_list', headers={'Content-type': 'application/json'}, json=json_samples)\n",
    "r.status_code"
   ]
  },
  {
   "cell_type": "code",
   "execution_count": 9,
   "metadata": {},
   "outputs": [
    {
     "data": {
      "text/plain": [
       "{'Prediction of sample 0': 78.105712890625,\n",
       " 'Prediction of sample 1': 43.483642578125,\n",
       " 'Prediction of sample 2': 34.14697265625,\n",
       " 'Prediction of sample 3': 45.90966796875,\n",
       " 'Prediction of sample 4': 44.8994140625,\n",
       " 'Prediction of sample 5': 47.33544921875,\n",
       " 'Prediction of sample 6': 62.14208984375,\n",
       " 'Prediction of sample 7': 47.086181640625,\n",
       " 'Prediction of sample 8': 92.703857421875,\n",
       " 'Prediction of sample 9': 42.4052734375}"
      ]
     },
     "execution_count": 9,
     "metadata": {},
     "output_type": "execute_result"
    }
   ],
   "source": [
    "r.json()['Predictions']"
   ]
  }
 ],
 "metadata": {
  "interpreter": {
   "hash": "aeffaa3cd4f775a2b69afea30a211b02d1e92b31b4f72fec7d7dbc07f5262b41"
  },
  "kernelspec": {
   "display_name": "Python 3.9.7 64-bit ('regen': conda)",
   "language": "python",
   "name": "python3"
  },
  "language_info": {
   "codemirror_mode": {
    "name": "ipython",
    "version": 3
   },
   "file_extension": ".py",
   "mimetype": "text/x-python",
   "name": "python",
   "nbconvert_exporter": "python",
   "pygments_lexer": "ipython3",
   "version": "3.9.7"
  },
  "orig_nbformat": 4
 },
 "nbformat": 4,
 "nbformat_minor": 2
}
